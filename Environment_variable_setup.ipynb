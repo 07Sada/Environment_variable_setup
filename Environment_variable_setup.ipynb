{
  "nbformat": 4,
  "nbformat_minor": 0,
  "metadata": {
    "colab": {
      "provenance": [],
      "authorship_tag": "ABX9TyNduc5Hw014xvVi8MXda0+X",
      "include_colab_link": true
    },
    "kernelspec": {
      "name": "python3",
      "display_name": "Python 3"
    },
    "language_info": {
      "name": "python"
    }
  },
  "cells": [
    {
      "cell_type": "markdown",
      "metadata": {
        "id": "view-in-github",
        "colab_type": "text"
      },
      "source": [
        "<a href=\"https://colab.research.google.com/github/07Sada/Environment_variable_setup/blob/main/Environment_variable_setup.ipynb\" target=\"_parent\"><img src=\"https://colab.research.google.com/assets/colab-badge.svg\" alt=\"Open In Colab\"/></a>"
      ]
    },
    {
      "cell_type": "code",
      "source": [
        "# Import the os library\n",
        "import os\n",
        "\n",
        "# Set the environment variables\n",
        "os.environ[\"API_KEY\"] = \"your_api_key\"\n",
        "os.environ[\"SECRET_KEY\"] = \"your_secret_key\"\n",
        "\n",
        "# Access the environment variables\n",
        "api_key = os.environ[\"API_KEY\"]\n",
        "secret_key = os.environ[\"SECRET_KEY\"]"
      ],
      "metadata": {
        "id": "XroavFB76xFv"
      },
      "execution_count": 4,
      "outputs": []
    },
    {
      "cell_type": "markdown",
      "source": [
        "Description:\n",
        "\n",
        "This code demonstrates how to set and access environment variables in Google Colab. The `os` library is imported, and the `os.environ` dictionary is used to set the environment variables. The environment variables are then accessed by using the keys of the `os.environ` dictionary.\n",
        "\n",
        "Note:\n",
        "This code assumes that the API key and secret key are stored in environment variables. If the API key and secret key are stored in a different format, such as a file or a database, the code will need to be modified accordingly."
      ],
      "metadata": {
        "id": "2BRIP_vw7QIN"
      }
    }
  ]
}